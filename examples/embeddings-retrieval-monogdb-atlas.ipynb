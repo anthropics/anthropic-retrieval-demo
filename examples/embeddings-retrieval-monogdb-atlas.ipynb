{
 "cells": [
  {
   "cell_type": "markdown",
   "metadata": {},
   "source": [
    "# Embeddings Retrieval with Claude and MongoDB Atlas vector search\n",
    "\n",
    "This notebook provides a step-by-step guide for using the Embedding search tool with Claude. We will:\n",
    "\n",
    "1. Set up the environment and imports\n",
    "2. Load documents into a Mongodb Atlas vector store in remote.\n",
    "3. Build a search tool to query the Brave search engine\n",
    "4. Test the search tool  \n",
    "5. Create a Claude client with access to the tool \n",
    "6. Compare Claude's responses with and without access to the tool\n",
    "\n",
    "## Imports and Configuration \n",
    "\n",
    "First we'll import libraries and load environment variables as required in the notebook. This includes setting up logging so we can monitor the process."
   ]
  },
  {
   "cell_type": "code",
   "execution_count": 1,
   "metadata": {},
   "outputs": [
    {
     "data": {
      "text/plain": [
       "True"
      ]
     },
     "execution_count": 1,
     "metadata": {},
     "output_type": "execute_result"
    }
   ],
   "source": [
    "import os\n",
    "import sys\n",
    "import dotenv\n",
    "import anthropic\n",
    "\n",
    "sys.path.append(os.path.abspath(os.path.join(os.getcwd(), os.pardir)))\n",
    "\n",
    "import claude_retriever\n",
    "from claude_retriever.searcher.embedders.local import LocalEmbedder\n",
    "from claude_retriever.constants import DEFAULT_EMBEDDER\n",
    "from claude_retriever.searcher.vectorstores.mongodb import MongoDBAtlasVectorStore\n",
    "\n",
    "# Load environment variables\n",
    "dotenv.load_dotenv()"
   ]
  },
  {
   "cell_type": "markdown",
   "metadata": {},
   "source": [
    "The first step is setting up your datastore. Here, we will make use of the [Kaggle Amazon Products 2020 Dataset](https://www.kaggle.com/datasets/promptcloud/amazon-product-dataset-2020). It contains 10000 products from Amazon, including their product title, description, price, category tags, etc. For the purposes of this notebook, we've pre-processed the data to concatenate the title, description and category tags into a single \"document\" field and saved it locally as a JSONL with one line for each product."
   ]
  },
  {
   "cell_type": "markdown",
   "metadata": {},
   "source": [
    "We now need to transform this raw text dataset into an embedding dataset. In this notebook we will opt for the simplest possible way to do this locally:\n",
    "\n",
    "1. We will use the [sentence-transformers](https://www.sbert.net/index.html) library, which allows us to use a lightweight model to embed our text data using only a CPU if that is all we have available.\n",
    "2. We will save the text/embedding pairs on disk as a JSONL file that can be loaded in memory on the fly."
   ]
  },
  {
   "cell_type": "code",
   "execution_count": 13,
   "metadata": {},
   "outputs": [
    {
     "data": {
      "text/html": [
       "<div>\n",
       "<style scoped>\n",
       "    .dataframe tbody tr th:only-of-type {\n",
       "        vertical-align: middle;\n",
       "    }\n",
       "\n",
       "    .dataframe tbody tr th {\n",
       "        vertical-align: top;\n",
       "    }\n",
       "\n",
       "    .dataframe thead th {\n",
       "        text-align: right;\n",
       "    }\n",
       "</style>\n",
       "<table border=\"1\" class=\"dataframe\">\n",
       "  <thead>\n",
       "    <tr style=\"text-align: right;\">\n",
       "      <th></th>\n",
       "      <th>text</th>\n",
       "    </tr>\n",
       "  </thead>\n",
       "  <tbody>\n",
       "    <tr>\n",
       "      <th>0</th>\n",
       "      <td>Product Name: DB Longboards CoreFlex Crossbow ...</td>\n",
       "    </tr>\n",
       "    <tr>\n",
       "      <th>1</th>\n",
       "      <td>Product Name: Electronic Snap Circuits Mini Ki...</td>\n",
       "    </tr>\n",
       "    <tr>\n",
       "      <th>2</th>\n",
       "      <td>Product Name: 3Doodler Create Flexy 3D Printin...</td>\n",
       "    </tr>\n",
       "    <tr>\n",
       "      <th>3</th>\n",
       "      <td>Product Name: Guillow Airplane Design Studio w...</td>\n",
       "    </tr>\n",
       "    <tr>\n",
       "      <th>4</th>\n",
       "      <td>Product Name: Woodstock- Collage 500 pc Puzzle...</td>\n",
       "    </tr>\n",
       "    <tr>\n",
       "      <th>...</th>\n",
       "      <td>...</td>\n",
       "    </tr>\n",
       "    <tr>\n",
       "      <th>9997</th>\n",
       "      <td>Product Name: Remedia Publications REM536B Mon...</td>\n",
       "    </tr>\n",
       "    <tr>\n",
       "      <th>9998</th>\n",
       "      <td>Product Name: Trends International NFL La Char...</td>\n",
       "    </tr>\n",
       "    <tr>\n",
       "      <th>9999</th>\n",
       "      <td>Product Name: NewPath Learning 10 Piece Scienc...</td>\n",
       "    </tr>\n",
       "    <tr>\n",
       "      <th>10000</th>\n",
       "      <td>Product Name: Disney Princess Do It Yourself B...</td>\n",
       "    </tr>\n",
       "    <tr>\n",
       "      <th>10001</th>\n",
       "      <td>Product Name: Hasegawa Ladders Lucano Step Lad...</td>\n",
       "    </tr>\n",
       "  </tbody>\n",
       "</table>\n",
       "<p>10002 rows × 1 columns</p>\n",
       "</div>"
      ],
      "text/plain": [
       "                                                    text\n",
       "0      Product Name: DB Longboards CoreFlex Crossbow ...\n",
       "1      Product Name: Electronic Snap Circuits Mini Ki...\n",
       "2      Product Name: 3Doodler Create Flexy 3D Printin...\n",
       "3      Product Name: Guillow Airplane Design Studio w...\n",
       "4      Product Name: Woodstock- Collage 500 pc Puzzle...\n",
       "...                                                  ...\n",
       "9997   Product Name: Remedia Publications REM536B Mon...\n",
       "9998   Product Name: Trends International NFL La Char...\n",
       "9999   Product Name: NewPath Learning 10 Piece Scienc...\n",
       "10000  Product Name: Disney Princess Do It Yourself B...\n",
       "10001  Product Name: Hasegawa Ladders Lucano Step Lad...\n",
       "\n",
       "[10002 rows x 1 columns]"
      ]
     },
     "execution_count": 13,
     "metadata": {},
     "output_type": "execute_result"
    }
   ],
   "source": [
    "import pandas as pd\n",
    "\n",
    "df = pd.read_json(\"./data/amazon-products.jsonl\", lines=True)\n",
    "df"
   ]
  },
  {
   "cell_type": "markdown",
   "metadata": {},
   "source": [
    "## Remote retrieval\n",
    "\n",
    "Local methods like the Local retriver work quite well for small datasets, but for larger datasets you may want to consider using a cloud-based method to both create the embeddings and store the vector datastore. In this example, we create a [MongoDB Atlas](https://www.mongodb.com/products/platform/atlas-vector-search) vector datastore."
   ]
  },
  {
   "cell_type": "code",
   "execution_count": 2,
   "metadata": {},
   "outputs": [],
   "source": [
    "conn_str=os.environ.get('MONGO_CONNECTION_STR')\n",
    "db_name= os.environ.get('MONG_DB_NAME')\n",
    "col_name= os.environ.get('MONG_COLLECTION_NAME')\n",
    "vectorstore = MongoDBAtlasVectorStore(conn_str=conn_str, db_name=db_name, col_name=col_name, embedding=LocalEmbedder(DEFAULT_EMBEDDER))"
   ]
  },
  {
   "cell_type": "markdown",
   "metadata": {},
   "source": [
    "Load and index data into mongodb."
   ]
  },
  {
   "cell_type": "code",
   "execution_count": 7,
   "metadata": {},
   "outputs": [
    {
     "name": "stderr",
     "output_type": "stream",
     "text": [
      "79it [09:55,  7.54s/it]\n"
     ]
    }
   ],
   "source": [
    "docs = df.to_dict(orient='records')\n",
    "vectorstore._collection.delete_many({})\n",
    "vectorstore._load_index_embeddings(docs, 128)"
   ]
  },
  {
   "cell_type": "markdown",
   "metadata": {},
   "source": [
    "## Create a search tool\n",
    "Using the vector store we just populated, let's create an EmbeddingSearchTool."
   ]
  },
  {
   "cell_type": "code",
   "execution_count": 3,
   "metadata": {},
   "outputs": [],
   "source": [
    "from claude_retriever.searcher.searchtools.embeddings import EmbeddingSearchTool\n",
    "\n",
    "AMAZON_SEARCH_TOOL_DESCRIPTION = 'The search engine will search over the Amazon Product database, and return for each product its title, description, and a set of tags.'\n",
    "\n",
    "amazon_search_tool = EmbeddingSearchTool(tool_description=AMAZON_SEARCH_TOOL_DESCRIPTION,\n",
    "                                         vector_store = vectorstore)"
   ]
  },
  {
   "cell_type": "markdown",
   "metadata": {},
   "source": [
    "Let's test to see if the search tool works!"
   ]
  },
  {
   "cell_type": "code",
   "execution_count": 4,
   "metadata": {},
   "outputs": [
    {
     "name": "stdout",
     "output_type": "stream",
     "text": [
      "\n",
      "<search_results>\n",
      "<item index=\"1\">\n",
      "<page_content>\n",
      "Product Name: LeapFrog Dino's Delightful Day Alphabet Book, Green\n",
      "\n",
      "About Product: Letters and words are woven into the story in alphabetical order with phonetic sounds to introduce ABCs to your little one through a charming tale | Flip through the 16 interactive pages to hear the story read aloud, or enjoy musical play by jamming to a melody with fun sounds and musical notes | Press the light-up button to hear letter names, letter sounds and words from the story | Number buttons along Dino's back introduce counting and recognizing numbers from one to ten | This complete story with beginning, middle and end exposes your child to early reading skills. 2AA batteries are included for demo purposes, replace new batteries for regular use. Product dimensions: 12.3\" Wide x 12.5\" Height x 2.7\" Depth\n",
      "\n",
      "Categories: Toys & Games | Learning & Education | Science Kits & Toys\n",
      "</page_content>\n",
      "</item>\n",
      "</search_results>\n"
     ]
    }
   ],
   "source": [
    "dinos = amazon_search_tool.search(\"fun kids dinosaur book\", n_search_results_to_use=1)\n",
    "print(dinos)"
   ]
  },
  {
   "cell_type": "markdown",
   "metadata": {},
   "source": [
    "## Use Claude with Retrieval\n",
    "We can now simply pass this search tool to Claude to use in retrieval.\n",
    "\n",
    "Also, Here is the basic response to the query (with no access to the tool)."
   ]
  },
  {
   "cell_type": "code",
   "execution_count": 9,
   "metadata": {},
   "outputs": [
    {
     "name": "stdout",
     "output_type": "stream",
     "text": [
      "huggingface/tokenizers: The current process just got forked, after parallelism has already been used. Disabling parallelism to avoid deadlocks...\n",
      "To disable this warning, you can either:\n",
      "\t- Avoid using `tokenizers` before the fork if possible\n",
      "\t- Explicitly set the environment variable TOKENIZERS_PARALLELISM=(true | false)\n",
      "--------------------------------------------------\n",
      "Basic response:\n",
      "\n",
      "\n",
      "Human: I want to get my daughter more interested in science. What kind of gifts should I get her?\n",
      "\n",
      "Assistant: Here are some science-themed gift ideas to help spark your daughter's interest:\n",
      "\n",
      "- A kids telescope or microscope set - These allow hands-on exploration and discovery. Look for ones designed specifically for children.\n",
      "\n",
      "- Science kits - Kits for chemistry, biology, physics, robotics, etc. allow her to do fun experiments and activities. Choose age-appropriate ones. \n",
      "\n",
      "- Science books - Books about space, animals, nature, engineering, etc. can feed her curiosity. Look for engaging titles with lots of visuals.\n",
      "\n",
      "- Science toys - There are many toys that have science themes like magnet sets, Crystal growing kits, anatomy model sets, etc. \n",
      "\n",
      "- Subscription box - There are subscription boxes that deliver a new science project or activity each month. This provides regular new educational fun.\n",
      "\n",
      "- Science museum membership - A membership allows unlimited visits and lets her explore exhibits as often as she wants. Many have kids areas.\n",
      "\n",
      "- Classes/camps - Look for science camps, clubs, workshops or classes through museums, zoos, community centers, etc. These provide structured learning.\n",
      "\n",
      "- Help her set up a science corner at home with tools like safety goggles, lab coats, magnifying glass, specimen jars, etc. to encourage science discovery.\n",
      "\n",
      "The key is finding gifts that relate to her interests and allow hands-on engagement. Talk to her to see which science topics excite her most.\n",
      "--------------------------------------------------\n"
     ]
    }
   ],
   "source": [
    "ANTHROPIC_SEARCH_MODEL = \"claude-2\"\n",
    "\n",
    "client = claude_retriever.ClientWithRetrieval(api_key=os.environ['ANTHROPIC_API_KEY'], search_tool = amazon_search_tool)\n",
    "\n",
    "query = \"I want to get my daughter more interested in science. What kind of gifts should I get her?\"\n",
    "prompt = f'{anthropic.HUMAN_PROMPT} {query}{anthropic.AI_PROMPT}'\n",
    "\n",
    "basic_response = client.completions.create(\n",
    "    prompt=prompt,\n",
    "    stop_sequences=[anthropic.HUMAN_PROMPT],\n",
    "    model=ANTHROPIC_SEARCH_MODEL,\n",
    "    max_tokens_to_sample=1000,\n",
    ")\n",
    "print('-'*50)\n",
    "print('Basic response:')\n",
    "print(prompt + basic_response.completion)\n",
    "print('-'*50)"
   ]
  },
  {
   "cell_type": "markdown",
   "metadata": {},
   "source": [
    "Now we get the same completion, but give Claude the ability to use the tool when thinking about the response."
   ]
  },
  {
   "cell_type": "code",
   "execution_count": 10,
   "metadata": {},
   "outputs": [
    {
     "name": "stdout",
     "output_type": "stream",
     "text": [
      "--------------------------------------------------\n",
      "Augmented response:\n",
      "\n",
      "\n",
      "Human: I want to get my daughter more interested in science. What kind of gifts should I get her?\n",
      "\n",
      "Assistant: Based on the search results, here are some science kit recommendations to get your daughter more interested in science:\n",
      "\n",
      "- The Scientific Explorer My First Science Kids Science Experiment Kit looks like a great starter kit for a young child. It has different experiments to spark creativity and curiosity, and teaches STEM principles through open-ended play. \n",
      "\n",
      "- The Hey! Play! Kids Science Kit is another good beginner kit that focuses on mixing substances and making things like litmus paper. It's designed for hands-on learning and uses common household items for the experiments.\n",
      "\n",
      "- For an older child, the Scientific Explorer Mind Blowing Science Kit bundles magic and science experiments to teach about chemical reactions. The kits include various chemicals to create fun reactions.\n",
      "\n",
      "- The Educational Insights GeoSafari Rockin' Reactions Chemistry Set allows kids to conduct chemistry experiments at home using household ingredients. It covers basic chemical principles.\n",
      "\n",
      "- The Learning Resources Primary Science Deluxe Lab Set is designed for ages 3+ and teaches early science exploration and skills. It includes lab gear and activity cards for guided learning.\n",
      "\n",
      "Overall, hands-on science kits that allow children to experiment, observe, and problem-solve are great STEM-inspired gifts. Look for age-appropriate kits that align with your daughter's interests and curiosity level. Start with basic intro kits when they're young and move up to more advanced chemistry/robotics kits as they grow.\n",
      "--------------------------------------------------\n"
     ]
    }
   ],
   "source": [
    "augmented_response = client.completion_with_retrieval(\n",
    "    query=query,\n",
    "    model=ANTHROPIC_SEARCH_MODEL,\n",
    "    n_search_results_to_use=3,\n",
    "    max_tokens_to_sample=1000)\n",
    "\n",
    "print('-'*50)\n",
    "print('Augmented response:')\n",
    "print(prompt + augmented_response)\n",
    "print('-'*50)"
   ]
  },
  {
   "cell_type": "markdown",
   "metadata": {},
   "source": [
    "Often, you'll want finer-grained control around how exactly Claude uses the results. For this workflow we recommend \"retrieve then complete\"."
   ]
  },
  {
   "cell_type": "code",
   "execution_count": 11,
   "metadata": {},
   "outputs": [
    {
     "name": "stdout",
     "output_type": "stream",
     "text": [
      "--------------------------------------------------\n",
      "Relevant results:\n",
      "[SearchResult(content='Product Name: Hey! Play! Kids Science Kit-Lab Set to Create Solutions, Litmus Paper, & More-Great Fun & Educational Stem Learning Activity for Boys & Girls\\n\\nAbout Product: Hands on learning- equipped with 4 test tubes and a holding rack, 2 beakers, dropper, measuring spoon, funnel, 3 grams of purple sweet potato powder and 10 sheets of paper filter, This is an excellent Basic starter science kit for kids! | Uses household items- The items needed for experiments that are not included with the kit are everyday items, that are easily found around the house, like scissors, plastic wrap, vinegar, baking soda, and water. | Stem activity- The science kit is a fantastic STEM (science, technology, engineering, Math) learning toy that will help your kids understand the concepts of mixing substances like acid and alkaline liquids and making things like litmus paper. | Hours of fun- this set is a wonderful gift for birthdays, holidays, or any occasion! Your little girl or boy will have hours of educational fun playing scientist and doing experiments! | Product details- kit includes 4 test tubes and holding rack, 2 beakers, dropper, measuring spoon, funnel, 3 grams of purple sweet potato powder and 10 sheets of paper filter. Needed but not included: scissors, plastic wrap, vinegar, baking soda, water.\\n\\nCategories: Toys & Games | Learning & Education | Science Kits & Toys'), SearchResult(content='Product Name: Scientific Explorer My First Science Kids Science Experiment Kit\\n\\nAbout Product: Experiments to spark creativity and curiosity | Grow watery crystals, create a rainbow in a plate, explore the science of color and more | Represents STEM (Science, Technology, Engineering, Math) principles – open ended toys to construct, engineer, explorer and experiment | Includes cross linked polyacrylamide, 3 color tablets, 3 mixing cups, 3 test tubes, caps and stand, pipette, mixing tray, magnifier and instructions | Recommended for children 4 years of age and older with adult supervision\\n\\nCategories: Toys & Games | Learning & Education | Science Kits & Toys'), SearchResult(content=\"Product Name: Be Amazing! Toys Get Slimed! Science Kit\\n\\nAbout Product: Explore the world of polymers by mixing different liquids together and watch them gel, harden, and expand as you create slimey science fun. | Some kid-favorite activities from this kit include Lumpy Slime, making Insta-Worms, making Worm Eggs, and Rainbow Worms. | The polymers and chemicals in this kit have been throughly tested and are safe for kids to use and we recommend adult supervision. | What is S.T.E.M.? STEM stands for Science, Technology, Engineering, and Math, which constitutes many of the areas educators look to cover for science based activities. We are proud to say that his kit has a strong focus on STEM. | The Amazing Science line of products has been designed to peak kid's curiosity for the world around them. These kits encourage kids to wonder, discover and explore in a way that will get the science to the dinner table. Our goal is to teach kids how to be amazing as they show their friends and family what they’ve learned. Real Science…Real Learning!\\n\\nCategories: Toys & Games | Learning & Education | Science Kits & Toys\"), SearchResult(content='Product Name: Newmark Learning Volumes 1 and 2 Rising Readers Science Single-Copy Set\\n\\nAbout Product: \\n\\nCategories: Toys & Games | Learning & Education | Science Kits & Toys'), SearchResult(content='Product Name: The Young Scientists Club Sci-Ology\\n\\nAbout Product: Use Memory And Strategy Skills To Collect 4 Cards Of Each Scientist | Learn About 12 Different Scientists And What They Study While Playing This European Game | Fun For The Whole Family | Each Oversized, Colorful Card Comes With Fun Facts | Multiple Award Winner\\n\\nCategories: Toys & Games | Games & Accessories | Card Games'), SearchResult(content='Product Name: C.R. Gibson Gibby & Libby My First Library Board Book\\n\\nAbout Product: Includes (3) board books for babies. | Baby book measures 5 x 5 x 0.4 inches. | Introduce little ones to early concepts where they can learn to count, about colors, and about pets and animals! | This cute and educational book set makes the perfect collection to be gifted to a toddler as their first book set! | This set includes a sturdy storage sleeve to keep all books together!\\n\\nCategories: Toys & Games | Learning & Education'), SearchResult(content='Product Name: Newmark Learning Volumes 1 and 2 Rising Readers Science Single-Copy Set\\n\\nAbout Product: \\n\\nCategories: Toys & Games | Learning & Education | Science Kits & Toys'), SearchResult(content='Product Name: Scientific Explorer Mind Blowing Science Kit with Scientific Explorer Magic Science for Wizards Only Kit Bundle\\n\\nAbout Product: 20 piece kit allows your young scientist to explore and learn the basics of science from chemical reactions to the use of science tools | Represents STEM (Science, Technology, Engineering, Math) principles – open ended toys to construct, engineer, explorer and experiment | Chemicals Included: Red cabbage powder, citric acid, baking soda, 3 color tablets, crosslinked polyacrylate copolymer, vegetable oil, corn starch | For Wizards only | Unique educational kit will teach you the science behind the magic | Chemicals include citric acid, baking soda, vegetable oil, cross linked polyacrylate copolymer, red cabbage powder, color tablets and zinc sulfide\\n\\nCategories: Toys & Games | Learning & Education | Science Kits & Toys'), SearchResult(content='Product Name: Learning Resources STEM Magnets Activity Set, Science Lessons, 24 Pieces, Ages 5+\\n\\nAbout Product: INTRODUCE young children to science, technology, engineering, and math while discovering the wonders of magnetism through early scientific exploration | DEVELOP: Critical Thinking, Cause and Effect and Problem Solving Skills | PROVIDE hands-on experience with magnets and introduce content vocabulary such as attract, repel, and polarity | This STEM Magnets set includes 2 bar magnets, 2 magnetic bugs, 4 ring magnets, horseshoe magnet, magnetic post, 2 snap-on cars, tray with maze, string, and 10 double-sided activity cards. Comprehensive activity guide with reproducible materials is also included | Ages 5+\\n\\nCategories: Toys & Games | Learning & Education | Science Kits & Toys'), SearchResult(content='Product Name: Scientific Explorer My First Science Kids Science Experiment Kit\\n\\nAbout Product: Experiments to spark creativity and curiosity | Grow watery crystals, create a rainbow in a plate, explore the science of color and more | Represents STEM (Science, Technology, Engineering, Math) principles – open ended toys to construct, engineer, explorer and experiment | Includes cross linked polyacrylamide, 3 color tablets, 3 mixing cups, 3 test tubes, caps and stand, pipette, mixing tray, magnifier and instructions | Recommended for children 4 years of age and older with adult supervision\\n\\nCategories: Toys & Games | Learning & Education | Science Kits & Toys'), SearchResult(content='Product Name: Excellerations Engineering with Ramps Interactive STEM Educational Science Toy for Kids 20 Pieces Measure 11\"-24\", Preschool\\n\\nAbout Product: EARLY STEM: Create and build fun STEM engineering experiments! Simply place supports in the bases, add ramps and complete challenges to discover force and motion, cause and effect and more science and STEM concepts. | SCIENCE TOY: Design engineering challenges with this exclusive STEM set! Discover science concepts while predicting, measuring, collecting and comparing data. | GREAT FOR CLASSROOMS: This interactive STEM toy can be used on a table top or on the floor - young learners will love to experiment with different setups to explore science concepts in a fun way. | EASY STORAGE: This set includes a variety of bases, supports, ramps and balls and it conveniently comes with a handy bag for easy storage in-between play sessions. | EVERYTHING YOU NEED: Complete set includes 3 sturdy bases, 3 supports for horizontal or vertical use (11\", 13\" and 16\"), 3 ramps (12\", 18\" and 24\"), 3 balls (wood, soft foam, and dense foam), 2 carts, 5 activity cards, Card stand and Storage bag.\\n\\nCategories: '), SearchResult(content='Product Name: Learning Resources STEM Magnets Activity Set, Science Lessons, 24 Pieces, Ages 5+\\n\\nAbout Product: INTRODUCE young children to science, technology, engineering, and math while discovering the wonders of magnetism through early scientific exploration | DEVELOP: Critical Thinking, Cause and Effect and Problem Solving Skills | PROVIDE hands-on experience with magnets and introduce content vocabulary such as attract, repel, and polarity | This STEM Magnets set includes 2 bar magnets, 2 magnetic bugs, 4 ring magnets, horseshoe magnet, magnetic post, 2 snap-on cars, tray with maze, string, and 10 double-sided activity cards. Comprehensive activity guide with reproducible materials is also included | Ages 5+\\n\\nCategories: Toys & Games | Learning & Education | Science Kits & Toys')]\n",
      "--------------------------------------------------\n"
     ]
    }
   ],
   "source": [
    "relevant_search_results = client.retrieve(\n",
    "    query=query,\n",
    "    stop_sequences=[anthropic.HUMAN_PROMPT, 'END_OF_SEARCH'],\n",
    "    model=ANTHROPIC_SEARCH_MODEL,\n",
    "    n_search_results_to_use=3,\n",
    "    max_searches_to_try=5,\n",
    "    max_tokens_to_sample=1000)\n",
    "\n",
    "print('-'*50)\n",
    "print('Relevant results:')\n",
    "print(relevant_search_results)\n",
    "print('-'*50)"
   ]
  },
  {
   "cell_type": "markdown",
   "metadata": {},
   "source": [
    "Here we create a new prompt for answering the user's query using the retrieved search results."
   ]
  },
  {
   "cell_type": "code",
   "execution_count": 12,
   "metadata": {},
   "outputs": [
    {
     "name": "stdout",
     "output_type": "stream",
     "text": [
      "--------------------------------------------------\n",
      "Response:\n",
      " <result>\n",
      "\n",
      "Here are some great gift ideas to get your daughter more interested in science:\n",
      "\n",
      "For younger kids, a science kit with hands-on experiments like the Hey! Play! Kids Science Kit can introduce basic concepts like mixing substances and chemistry in a fun way. Kits tailored for their age with safe materials are ideal. The Scientific Explorer My First Science Kit has beginner experiments as well, like growing crystals and exploring color. \n",
      "\n",
      "For older elementary school ages, try gifts that let them design their own experiments like the Mind Blowing Science Kit. This allows them to explore cause and effect and use science tools in an open-ended way. Something like the Engineering with Ramps Set would also let them build different ramp configurations to see concepts like force and motion at work.\n",
      "\n",
      "Books and learning games are great too. The Sci-Ology game teaches about famous scientists in a fun way. And workbooks like the Rising Readers Science Set can provide reading comprehension practice around science topics.\n",
      "\n",
      "The key is finding hands-on, interactive gifts that promote curiosity and problem-solving. With the right tools, your daughter can discover just how awesome science can be!\n",
      "</result>\n",
      "\n",
      "<recommendations>\n",
      "Products you might like:\n",
      "1. Hey! Play! Kids Science Kit\n",
      "2. Engineering with Ramps Set  \n",
      "3. Mind Blowing Science Kit\n",
      "</recommendations>\n",
      "--------------------------------------------------\n"
     ]
    }
   ],
   "source": [
    "qa_prompt = f'''{anthropic.HUMAN_PROMPT} You are a friendly product recommender. Here is a query issued by a user looking for product recommendations:\n",
    "\n",
    "{query}\n",
    "\n",
    "Here are a set of search results that might be helpful for answering the user's query:\n",
    "\n",
    "{relevant_search_results}\n",
    "\n",
    "Once again, here is the user's query:\n",
    "\n",
    "<query>{query}</query>\n",
    "\n",
    "Please write a response to the user that answers their query and provides them with helpful product recommendations. Feel free to use the search results above to help you write your response, or ignore them if they are not helpful.\n",
    "\n",
    "At the end of your response, under \"Products you might like:\", list the top 3 product names from the search results that you think the user would most like.\n",
    "\n",
    "Please ensure your results are in the following format:\n",
    "\n",
    "<result>\n",
    "Your response to the user's query.\n",
    "</result>\n",
    "<recommendations>\n",
    "Products you might like:\n",
    "1. Product name\n",
    "2. Product name\n",
    "3. Product name\n",
    "</recommendations>{anthropic.AI_PROMPT}'''\n",
    "\n",
    "response = client.completions.create(\n",
    "    prompt=qa_prompt,\n",
    "    stop_sequences=[anthropic.HUMAN_PROMPT],\n",
    "    model=ANTHROPIC_SEARCH_MODEL,\n",
    "    max_tokens_to_sample=1000,\n",
    ")\n",
    "\n",
    "print('-'*50)\n",
    "print('Response:')\n",
    "print(response.completion)\n",
    "print('-'*50)"
   ]
  }
 ],
 "metadata": {
  "kernelspec": {
   "display_name": "venv",
   "language": "python",
   "name": "python3"
  },
  "language_info": {
   "codemirror_mode": {
    "name": "ipython",
    "version": 3
   },
   "file_extension": ".py",
   "mimetype": "text/x-python",
   "name": "python",
   "nbconvert_exporter": "python",
   "pygments_lexer": "ipython3",
   "version": "3.11.4"
  },
  "orig_nbformat": 4
 },
 "nbformat": 4,
 "nbformat_minor": 2
}
